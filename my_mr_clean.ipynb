{
 "cells": [
  {
   "cell_type": "code",
   "execution_count": 73,
   "id": "initial_id",
   "metadata": {
    "collapsed": true,
    "ExecuteTime": {
     "end_time": "2024-04-05T12:17:20.193106600Z",
     "start_time": "2024-04-05T12:17:20.185675Z"
    }
   },
   "outputs": [],
   "source": [
    "    import pandas as pd\n",
    "import numpy as np\n",
    "import re\n",
    "import requests\n",
    "from bs4 import BeautifulSoup\n",
    "from collections import Counter\n",
    "from operator import itemgetter\n",
    "\n",
    "import matplotlib.pyplot as plt\n",
    "import seaborn as sns\n",
    "\n",
    "import warnings\n",
    "warnings.filterwarnings(\"ignore\")"
   ]
  },
  {
   "cell_type": "code",
   "outputs": [],
   "source": [
    "def merge_contents(str):\n",
    "  data=requests.get(f'https://en.wikipedia.org/wiki/{str}').text\n",
    "  soup = BeautifulSoup(data, features='html.parser')\n",
    "  content = soup.find('div',id='bodyContent')\n",
    "  article = content.get_text()\n",
    "  return article\n"
   ],
   "metadata": {
    "collapsed": false,
    "ExecuteTime": {
     "end_time": "2024-04-05T12:17:20.471793700Z",
     "start_time": "2024-04-05T12:17:20.465256100Z"
    }
   },
   "id": "2dfbac38bb234554",
   "execution_count": 74
  },
  {
   "cell_type": "code",
   "outputs": [],
   "source": [
    "def tokenize(content):\n",
    "    content = re.sub(r'https\\S+', '', content)\n",
    "    content = re.sub(r'[^a-zA-Z|\\s]', '', content)\n",
    "    return content"
   ],
   "metadata": {
    "collapsed": false,
    "ExecuteTime": {
     "end_time": "2024-04-05T12:17:20.815769500Z",
     "start_time": "2024-04-05T12:17:20.803606300Z"
    }
   },
   "id": "a282a8270f752bd3",
   "execution_count": 75
  },
  {
   "cell_type": "code",
   "outputs": [],
   "source": [
    "def lower_collection(collection):\n",
    "    content1 = collection.lower().split()\n",
    "    return content1"
   ],
   "metadata": {
    "collapsed": false,
    "ExecuteTime": {
     "end_time": "2024-04-05T12:17:21.144443400Z",
     "start_time": "2024-04-05T12:17:21.129488700Z"
    }
   },
   "id": "c7072da4d2678977",
   "execution_count": 76
  },
  {
   "cell_type": "code",
   "outputs": [],
   "source": [
    "def count_frequency(collection):\n",
    "    collection= Counter(collection)\n",
    "    return collection"
   ],
   "metadata": {
    "collapsed": false,
    "ExecuteTime": {
     "end_time": "2024-04-05T12:17:21.554572800Z",
     "start_time": "2024-04-05T12:17:21.543695400Z"
    }
   },
   "id": "e6124dd5e21796fd",
   "execution_count": 77
  },
  {
   "cell_type": "code",
   "outputs": [],
   "source": [
    "def print_most_frequent(frequencies, n):\n",
    "    top_n_values = sorted(frequencies.items(),key=itemgetter(1)  ,reverse=True)\n",
    "    top_n_values = top_n_values[:n]\n",
    "    top_n_values = dict(top_n_values)\n",
    "    \n",
    "    keys = list(top_n_values.keys())\n",
    "    values = list(top_n_values.values())\n",
    "    \n",
    "    sns.barplot(x=values, y=keys,palette='hsv',legend=False)\n",
    "    plt.title(f\"Frequency of {\" \".join(data.split('_'))} words\")\n",
    "    plt.xlabel('Count')\n",
    "    plt.ylabel('Words')\n",
    "    plt.show()"
   ],
   "metadata": {
    "collapsed": false,
    "ExecuteTime": {
     "end_time": "2024-04-05T12:17:21.847505500Z",
     "start_time": "2024-04-05T12:17:21.832928800Z"
    }
   },
   "id": "fbb079c1bc74e9aa",
   "execution_count": 78
  },
  {
   "cell_type": "code",
   "outputs": [],
   "source": [
    "def remove_stop_words(collection, stop_words):\n",
    "    clean = []\n",
    "    for word in collection:\n",
    "        if word not in stop_words:\n",
    "            clean.append(word)\n",
    "    \n",
    "    clean = count_frequency(clean)\n",
    "    \n",
    "    print_most_frequent(clean,25)\n",
    "    \"\"\"clean = dict(clean)\n",
    "    clean = clean[:25]\n",
    "    \n",
    "    keys = list(clean.keys())\n",
    "    values = list(clean.values())\n",
    "    sns.barplot(x=values, y=keys,palette='hsv',legend=False)\n",
    "    plt.title(f\"Frequency of {\" \".join(data.split('_'))} which filtered \")\n",
    "    plt.xlabel('Count')\n",
    "    plt.ylabel('Words')\n",
    "    plt.show()\"\"\""
   ],
   "metadata": {
    "collapsed": false,
    "ExecuteTime": {
     "end_time": "2024-04-05T12:17:22.199323800Z",
     "start_time": "2024-04-05T12:17:22.187067800Z"
    }
   },
   "id": "647d4b86ebed5a4e",
   "execution_count": 79
  },
  {
   "cell_type": "code",
   "outputs": [],
   "source": [
    "data = \"Ozone_layer\"\n",
    "merge_content = merge_contents(data)\n",
    "collection = tokenize(merge_content)\n",
    "collection = lower_collection(collection)\n",
    "frequencies = count_frequency(collection)\n",
    "print_most_frequent(frequencies, 10)\n",
    "\n",
    "stop_words = ['i', 'me', 'my', 'myself', 'we', 'our', 'ours', \n",
    "'ourselves', 'you', \"you're\", \"you've\", \"you'll\", \"you'd\", 'your', 'yours', 'yourself', \n",
    "'yourselves', 'he', 'him', 'his', 'himself', 'she', \"she's\", 'her', 'hers', 'herself', \n",
    "'it', \"it's\", 'its', 'itself', 'they', 'them', 'their', 'theirs', 'themselves',\n",
    " 'what', 'which', 'who', 'whom', 'this', 'that', \"that'll\", 'these', 'those', 'am', 'is', 'are',\n",
    " 'was', 'were', 'be', 'been', 'being', 'have', 'has', 'had', 'having', 'do', 'does', 'did', 'doing',\n",
    " 'a', 'an', 'the', 'and', 'but', 'if', 'or', 'because', 'as', 'until', 'while', 'of', 'at', 'by', 'for', \n",
    "'with', 'about', 'against', 'between', 'into', 'through', 'during', 'before', 'after', 'above', 'below', 'to', \n",
    "'from', 'up', 'down', 'in', 'out', 'on', 'off', 'over', 'under', 'again', 'further', 'then', 'once', \n",
    "'here', 'there', 'when', 'where', 'why', 'how', 'all', 'any', 'both', 'each', 'few', 'more', 'most', \n",
    "'other', 'some', 'such', 'no', 'nor', 'not', 'only', 'own', 'same', 'so', 'than', 'too', 'very', \n",
    "'s', 't', 'can', 'will', 'just', 'don', \"don't\", 'should', \"should've\", 'now', 'd', 'll', 'm', 'o', 're', 've', 'y',\n",
    " 'ain', 'aren', \"aren't\", 'couldn', \"couldn't\", 'didn', \"didn't\", 'doesn', \"doesn't\", \n",
    "'hadn', \"hadn't\", 'hasn', \"hasn't\", 'haven', \"haven't\", 'isn', \"isn't\", 'ma', 'mightn',\n",
    " \"mightn't\", 'mustn', \"mustn't\", 'needn', \"needn't\", 'shan', \"shan't\", 'shouldn', \"shouldn't\", \n",
    "'wasn', \"wasn't\", 'weren', \"weren't\", 'won', \"won't\", 'wouldn', \"wouldn't\"]\n",
    "remove_stop_words(collection, stop_words)"
   ],
   "metadata": {
    "collapsed": false,
    "ExecuteTime": {
     "end_time": "2024-04-05T12:17:23.950243Z",
     "start_time": "2024-04-05T12:17:22.695327100Z"
    }
   },
   "id": "47eb91c40649fffd",
   "execution_count": 80
  }
 ],
 "metadata": {
  "kernelspec": {
   "display_name": "Python 3",
   "language": "python",
   "name": "python3"
  },
  "language_info": {
   "codemirror_mode": {
    "name": "ipython",
    "version": 2
   },
   "file_extension": ".py",
   "mimetype": "text/x-python",
   "name": "python",
   "nbconvert_exporter": "python",
   "pygments_lexer": "ipython2",
   "version": "2.7.6"
  }
 },
 "nbformat": 4,
 "nbformat_minor": 5
}
